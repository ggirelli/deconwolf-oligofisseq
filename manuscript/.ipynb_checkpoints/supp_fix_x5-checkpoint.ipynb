{
 "cells": [
  {
   "cell_type": "code",
   "execution_count": null,
   "metadata": {},
   "outputs": [
    {
     "name": "stderr",
     "output_type": "stream",
     "text": [
      "Loading required package: data.table\n",
      "\n"
     ]
    }
   ],
   "source": [
    "require(data.table)\n",
    "require(ggplot2)\n",
    "require(viridis)\n",
    "require(RColorBrewer)\n",
    "source(\"functions/save_and_plot.R\")"
   ]
  },
  {
   "cell_type": "code",
   "execution_count": null,
   "metadata": {},
   "outputs": [],
   "source": [
    "pdata = fread(\"../data/Tier_2_detection_efficiency_per_target_chrX_46plex_eLIT.csv\")"
   ]
  },
  {
   "cell_type": "code",
   "execution_count": null,
   "metadata": {},
   "outputs": [],
   "source": [
    "set.seed(465456)\n",
    "pdata[, loci := factor(loci, levels=paste0(\"X\", 1:46))]\n",
    "pdata[Deconvolution == \"Non DW\", Deconvolution := \"RL\"]\n",
    "pdata[, Deconvolution := factor(Deconvolution, levels=c(\"RL\", \"DW\"))]\n",
    "pdata[, nudge_x := runif(.N, -.125, .125)]"
   ]
  },
  {
   "cell_type": "code",
   "execution_count": null,
   "metadata": {},
   "outputs": [],
   "source": [
    "options(repr.plot.width=24, repr.plot.height=6)\n",
    "palette = brewer.pal(4, \"Paired\")\n",
    "\n",
    "require(boot)\n",
    "set.seed(424654)\n",
    "mean.fun = function(data, idx) { mean(data[idx]) }\n",
    "stat_data = pdata[, .(mean=mean(detected), sd=sd(detected), ci=diff(unlist(boot.ci(boot.out=boot(detected, mean.fun, R=1000), type=c(\"perc\"))$percent)[4:5])/2), by=c(\"loci\", \"Deconvolution\")]\n",
    "\n",
    "p = ggplot(stat_data, aes(x=loci, y=mean, fill=Deconvolution)) +\n",
    "    geom_col(position=\"dodge\", color=\"#323232\") +\n",
    "    theme_bw() + scale_fill_manual(\"\", values=palette[c(1,3)]) +\n",
    "    labs(x=\"Target\", y=\"Detection efficiency (%)\") +\n",
    "    geom_errorbar(data=stat_data[Deconvolution == \"DW\"],\n",
    "                  aes(x=as.numeric(loci)+.225, ymax=mean+ci, ymin=mean-ci),\n",
    "                  color=\"#323232\", width=0, size=.5) +\n",
    "    geom_errorbar(data=stat_data[Deconvolution == \"RL\"],\n",
    "                  aes(x=as.numeric(loci)-.225, ymax=mean+ci, ymin=mean-ci),\n",
    "                  color=\"#323232\", width=0, size=.5)\n",
    "print(p)"
   ]
  },
  {
   "cell_type": "code",
   "execution_count": null,
   "metadata": {},
   "outputs": [],
   "source": [
    "save_and_plot(p, \"figures/supp_fig_x5\", width=14, height=2.5, formats=c(\"png\", \"jpg\", \"pdf\"))\n",
    "saveRDS(p, \"figures/supp_fig_x5.rds\")"
   ]
  }
 ],
 "metadata": {
  "kernelspec": {
   "display_name": "R 3.6",
   "language": "R",
   "name": "ir36"
  },
  "language_info": {
   "codemirror_mode": "r",
   "file_extension": ".r",
   "mimetype": "text/x-r-source",
   "name": "R",
   "pygments_lexer": "r",
   "version": "3.6.3"
  }
 },
 "nbformat": 4,
 "nbformat_minor": 4
}
