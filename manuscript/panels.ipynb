{
 "cells": [
  {
   "cell_type": "code",
   "execution_count": 78,
   "source": [
    "require(data.table)\n",
    "require(ggplot2)\n",
    "require(viridis)\n",
    "require(RColorBrewer)\n",
    "source(\"functions/save_and_plot.R\")"
   ],
   "outputs": [],
   "metadata": {}
  },
  {
   "cell_type": "code",
   "execution_count": 79,
   "source": [
    "pdata = fread(\"../data/Tier_2_detection_efficiency_per_replicate_chrX_46plex_eLIT.csv\")[, V1 := NULL]"
   ],
   "outputs": [],
   "metadata": {}
  },
  {
   "cell_type": "code",
   "execution_count": 80,
   "source": [
    "dim(pdata)"
   ],
   "outputs": [
    {
     "output_type": "display_data",
     "data": {
      "text/html": [
       "<style>\n",
       ".list-inline {list-style: none; margin:0; padding: 0}\n",
       ".list-inline>li {display: inline-block}\n",
       ".list-inline>li:not(:last-child)::after {content: \"\\00b7\"; padding: 0 .5ex}\n",
       "</style>\n",
       "<ol class=list-inline><li>336</li><li>6</li></ol>\n"
      ],
      "text/latex": [
       "\\begin{enumerate*}\n",
       "\\item 336\n",
       "\\item 6\n",
       "\\end{enumerate*}\n"
      ],
      "text/markdown": [
       "1. 336\n",
       "2. 6\n",
       "\n",
       "\n"
      ],
      "text/plain": [
       "[1] 336   6"
      ]
     },
     "metadata": {}
    }
   ],
   "metadata": {}
  },
  {
   "cell_type": "code",
   "execution_count": 81,
   "source": [
    "head(pdata)"
   ],
   "outputs": [
    {
     "output_type": "display_data",
     "data": {
      "text/html": [
       "<table class=\"dataframe\">\n",
       "<caption>A data.table: 6 × 6</caption>\n",
       "<thead>\n",
       "\t<tr><th scope=col>image</th><th scope=col>roi</th><th scope=col>category</th><th scope=col>Deconvolution</th><th scope=col>detected</th><th scope=col>match_barcodes</th></tr>\n",
       "\t<tr><th scope=col>&lt;int&gt;</th><th scope=col>&lt;int&gt;</th><th scope=col>&lt;chr&gt;</th><th scope=col>&lt;chr&gt;</th><th scope=col>&lt;dbl&gt;</th><th scope=col>&lt;int&gt;</th></tr>\n",
       "</thead>\n",
       "<tbody>\n",
       "\t<tr><td>1</td><td>3</td><td>OFQv68_w2</td><td>DW</td><td>0.9565217</td><td>44</td></tr>\n",
       "\t<tr><td>1</td><td>4</td><td>OFQv68_w2</td><td>DW</td><td>0.9130435</td><td>42</td></tr>\n",
       "\t<tr><td>1</td><td>5</td><td>OFQv68_w2</td><td>DW</td><td>1.0000000</td><td>46</td></tr>\n",
       "\t<tr><td>1</td><td>6</td><td>OFQv68_w2</td><td>DW</td><td>0.9565217</td><td>44</td></tr>\n",
       "\t<tr><td>1</td><td>7</td><td>OFQv68_w2</td><td>DW</td><td>0.9565217</td><td>44</td></tr>\n",
       "\t<tr><td>1</td><td>8</td><td>OFQv68_w2</td><td>DW</td><td>1.0000000</td><td>46</td></tr>\n",
       "</tbody>\n",
       "</table>\n"
      ],
      "text/latex": [
       "A data.table: 6 × 6\n",
       "\\begin{tabular}{llllll}\n",
       " image & roi & category & Deconvolution & detected & match\\_barcodes\\\\\n",
       " <int> & <int> & <chr> & <chr> & <dbl> & <int>\\\\\n",
       "\\hline\n",
       "\t 1 & 3 & OFQv68\\_w2 & DW & 0.9565217 & 44\\\\\n",
       "\t 1 & 4 & OFQv68\\_w2 & DW & 0.9130435 & 42\\\\\n",
       "\t 1 & 5 & OFQv68\\_w2 & DW & 1.0000000 & 46\\\\\n",
       "\t 1 & 6 & OFQv68\\_w2 & DW & 0.9565217 & 44\\\\\n",
       "\t 1 & 7 & OFQv68\\_w2 & DW & 0.9565217 & 44\\\\\n",
       "\t 1 & 8 & OFQv68\\_w2 & DW & 1.0000000 & 46\\\\\n",
       "\\end{tabular}\n"
      ],
      "text/markdown": [
       "\n",
       "A data.table: 6 × 6\n",
       "\n",
       "| image &lt;int&gt; | roi &lt;int&gt; | category &lt;chr&gt; | Deconvolution &lt;chr&gt; | detected &lt;dbl&gt; | match_barcodes &lt;int&gt; |\n",
       "|---|---|---|---|---|---|\n",
       "| 1 | 3 | OFQv68_w2 | DW | 0.9565217 | 44 |\n",
       "| 1 | 4 | OFQv68_w2 | DW | 0.9130435 | 42 |\n",
       "| 1 | 5 | OFQv68_w2 | DW | 1.0000000 | 46 |\n",
       "| 1 | 6 | OFQv68_w2 | DW | 0.9565217 | 44 |\n",
       "| 1 | 7 | OFQv68_w2 | DW | 0.9565217 | 44 |\n",
       "| 1 | 8 | OFQv68_w2 | DW | 1.0000000 | 46 |\n",
       "\n"
      ],
      "text/plain": [
       "  image roi category  Deconvolution detected  match_barcodes\n",
       "1 1     3   OFQv68_w2 DW            0.9565217 44            \n",
       "2 1     4   OFQv68_w2 DW            0.9130435 42            \n",
       "3 1     5   OFQv68_w2 DW            1.0000000 46            \n",
       "4 1     6   OFQv68_w2 DW            0.9565217 44            \n",
       "5 1     7   OFQv68_w2 DW            0.9565217 44            \n",
       "6 1     8   OFQv68_w2 DW            1.0000000 46            "
      ]
     },
     "metadata": {}
    }
   ],
   "metadata": {}
  },
  {
   "cell_type": "code",
   "execution_count": 82,
   "source": [
    "pdata[, unique(image)]"
   ],
   "outputs": [
    {
     "output_type": "display_data",
     "data": {
      "text/html": [
       "<style>\n",
       ".list-inline {list-style: none; margin:0; padding: 0}\n",
       ".list-inline>li {display: inline-block}\n",
       ".list-inline>li:not(:last-child)::after {content: \"\\00b7\"; padding: 0 .5ex}\n",
       "</style>\n",
       "<ol class=list-inline><li>1</li><li>2</li><li>3</li><li>4</li><li>5</li><li>6</li><li>7</li><li>8</li><li>9</li><li>10</li><li>21</li><li>23</li><li>24</li><li>25</li><li>11</li><li>12</li><li>13</li><li>14</li><li>15</li><li>31</li><li>32</li><li>33</li><li>34</li><li>35</li></ol>\n"
      ],
      "text/latex": [
       "\\begin{enumerate*}\n",
       "\\item 1\n",
       "\\item 2\n",
       "\\item 3\n",
       "\\item 4\n",
       "\\item 5\n",
       "\\item 6\n",
       "\\item 7\n",
       "\\item 8\n",
       "\\item 9\n",
       "\\item 10\n",
       "\\item 21\n",
       "\\item 23\n",
       "\\item 24\n",
       "\\item 25\n",
       "\\item 11\n",
       "\\item 12\n",
       "\\item 13\n",
       "\\item 14\n",
       "\\item 15\n",
       "\\item 31\n",
       "\\item 32\n",
       "\\item 33\n",
       "\\item 34\n",
       "\\item 35\n",
       "\\end{enumerate*}\n"
      ],
      "text/markdown": [
       "1. 1\n",
       "2. 2\n",
       "3. 3\n",
       "4. 4\n",
       "5. 5\n",
       "6. 6\n",
       "7. 7\n",
       "8. 8\n",
       "9. 9\n",
       "10. 10\n",
       "11. 21\n",
       "12. 23\n",
       "13. 24\n",
       "14. 25\n",
       "15. 11\n",
       "16. 12\n",
       "17. 13\n",
       "18. 14\n",
       "19. 15\n",
       "20. 31\n",
       "21. 32\n",
       "22. 33\n",
       "23. 34\n",
       "24. 35\n",
       "\n",
       "\n"
      ],
      "text/plain": [
       " [1]  1  2  3  4  5  6  7  8  9 10 21 23 24 25 11 12 13 14 15 31 32 33 34 35"
      ]
     },
     "metadata": {}
    }
   ],
   "metadata": {}
  },
  {
   "cell_type": "code",
   "execution_count": 83,
   "source": [
    "pdata[, unique(roi)]"
   ],
   "outputs": [
    {
     "output_type": "display_data",
     "data": {
      "text/html": [
       "<style>\n",
       ".list-inline {list-style: none; margin:0; padding: 0}\n",
       ".list-inline>li {display: inline-block}\n",
       ".list-inline>li:not(:last-child)::after {content: \"\\00b7\"; padding: 0 .5ex}\n",
       "</style>\n",
       "<ol class=list-inline><li>3</li><li>4</li><li>5</li><li>6</li><li>7</li><li>8</li><li>9</li><li>2</li><li>1</li><li>10</li><li>11</li><li>12</li><li>13</li></ol>\n"
      ],
      "text/latex": [
       "\\begin{enumerate*}\n",
       "\\item 3\n",
       "\\item 4\n",
       "\\item 5\n",
       "\\item 6\n",
       "\\item 7\n",
       "\\item 8\n",
       "\\item 9\n",
       "\\item 2\n",
       "\\item 1\n",
       "\\item 10\n",
       "\\item 11\n",
       "\\item 12\n",
       "\\item 13\n",
       "\\end{enumerate*}\n"
      ],
      "text/markdown": [
       "1. 3\n",
       "2. 4\n",
       "3. 5\n",
       "4. 6\n",
       "5. 7\n",
       "6. 8\n",
       "7. 9\n",
       "8. 2\n",
       "9. 1\n",
       "10. 10\n",
       "11. 11\n",
       "12. 12\n",
       "13. 13\n",
       "\n",
       "\n"
      ],
      "text/plain": [
       " [1]  3  4  5  6  7  8  9  2  1 10 11 12 13"
      ]
     },
     "metadata": {}
    }
   ],
   "metadata": {}
  },
  {
   "cell_type": "code",
   "execution_count": 84,
   "source": [
    "pdata[, unique(category)]"
   ],
   "outputs": [
    {
     "output_type": "display_data",
     "data": {
      "text/html": [
       "<style>\n",
       ".list-inline {list-style: none; margin:0; padding: 0}\n",
       ".list-inline>li {display: inline-block}\n",
       ".list-inline>li:not(:last-child)::after {content: \"\\00b7\"; padding: 0 .5ex}\n",
       "</style>\n",
       "<ol class=list-inline><li>'OFQv68_w2'</li><li>'OFQv68_w3'</li><li>'OFQv68_w3_BS'</li><li>'OFQv68_w4'</li><li>'OFQv68_w4_BS'</li><li>'OFQv69_w4'</li><li>'OFQv69_w5'</li></ol>\n"
      ],
      "text/latex": [
       "\\begin{enumerate*}\n",
       "\\item 'OFQv68\\_w2'\n",
       "\\item 'OFQv68\\_w3'\n",
       "\\item 'OFQv68\\_w3\\_BS'\n",
       "\\item 'OFQv68\\_w4'\n",
       "\\item 'OFQv68\\_w4\\_BS'\n",
       "\\item 'OFQv69\\_w4'\n",
       "\\item 'OFQv69\\_w5'\n",
       "\\end{enumerate*}\n"
      ],
      "text/markdown": [
       "1. 'OFQv68_w2'\n",
       "2. 'OFQv68_w3'\n",
       "3. 'OFQv68_w3_BS'\n",
       "4. 'OFQv68_w4'\n",
       "5. 'OFQv68_w4_BS'\n",
       "6. 'OFQv69_w4'\n",
       "7. 'OFQv69_w5'\n",
       "\n",
       "\n"
      ],
      "text/plain": [
       "[1] \"OFQv68_w2\"    \"OFQv68_w3\"    \"OFQv68_w3_BS\" \"OFQv68_w4\"    \"OFQv68_w4_BS\"\n",
       "[6] \"OFQv69_w4\"    \"OFQv69_w5\"   "
      ]
     },
     "metadata": {}
    }
   ],
   "metadata": {}
  },
  {
   "cell_type": "code",
   "execution_count": 85,
   "source": [
    "pdata[, .N, by=category]"
   ],
   "outputs": [
    {
     "output_type": "display_data",
     "data": {
      "text/html": [
       "<table class=\"dataframe\">\n",
       "<caption>A data.table: 7 × 2</caption>\n",
       "<thead>\n",
       "\t<tr><th scope=col>category</th><th scope=col>N</th></tr>\n",
       "\t<tr><th scope=col>&lt;chr&gt;</th><th scope=col>&lt;int&gt;</th></tr>\n",
       "</thead>\n",
       "<tbody>\n",
       "\t<tr><td>OFQv68_w2   </td><td>64</td></tr>\n",
       "\t<tr><td>OFQv68_w3   </td><td>42</td></tr>\n",
       "\t<tr><td>OFQv68_w3_BS</td><td>34</td></tr>\n",
       "\t<tr><td>OFQv68_w4   </td><td>64</td></tr>\n",
       "\t<tr><td>OFQv68_w4_BS</td><td>34</td></tr>\n",
       "\t<tr><td>OFQv69_w4   </td><td>54</td></tr>\n",
       "\t<tr><td>OFQv69_w5   </td><td>44</td></tr>\n",
       "</tbody>\n",
       "</table>\n"
      ],
      "text/latex": [
       "A data.table: 7 × 2\n",
       "\\begin{tabular}{ll}\n",
       " category & N\\\\\n",
       " <chr> & <int>\\\\\n",
       "\\hline\n",
       "\t OFQv68\\_w2    & 64\\\\\n",
       "\t OFQv68\\_w3    & 42\\\\\n",
       "\t OFQv68\\_w3\\_BS & 34\\\\\n",
       "\t OFQv68\\_w4    & 64\\\\\n",
       "\t OFQv68\\_w4\\_BS & 34\\\\\n",
       "\t OFQv69\\_w4    & 54\\\\\n",
       "\t OFQv69\\_w5    & 44\\\\\n",
       "\\end{tabular}\n"
      ],
      "text/markdown": [
       "\n",
       "A data.table: 7 × 2\n",
       "\n",
       "| category &lt;chr&gt; | N &lt;int&gt; |\n",
       "|---|---|\n",
       "| OFQv68_w2    | 64 |\n",
       "| OFQv68_w3    | 42 |\n",
       "| OFQv68_w3_BS | 34 |\n",
       "| OFQv68_w4    | 64 |\n",
       "| OFQv68_w4_BS | 34 |\n",
       "| OFQv69_w4    | 54 |\n",
       "| OFQv69_w5    | 44 |\n",
       "\n"
      ],
      "text/plain": [
       "  category     N \n",
       "1 OFQv68_w2    64\n",
       "2 OFQv68_w3    42\n",
       "3 OFQv68_w3_BS 34\n",
       "4 OFQv68_w4    64\n",
       "5 OFQv68_w4_BS 34\n",
       "6 OFQv69_w4    54\n",
       "7 OFQv69_w5    44"
      ]
     },
     "metadata": {}
    }
   ],
   "metadata": {}
  },
  {
   "cell_type": "code",
   "execution_count": 86,
   "source": [
    "pdata[, .N, by=c(\"category\", \"Deconvolution\")]"
   ],
   "outputs": [
    {
     "output_type": "display_data",
     "data": {
      "text/html": [
       "<table class=\"dataframe\">\n",
       "<caption>A data.table: 14 × 3</caption>\n",
       "<thead>\n",
       "\t<tr><th scope=col>category</th><th scope=col>Deconvolution</th><th scope=col>N</th></tr>\n",
       "\t<tr><th scope=col>&lt;chr&gt;</th><th scope=col>&lt;chr&gt;</th><th scope=col>&lt;int&gt;</th></tr>\n",
       "</thead>\n",
       "<tbody>\n",
       "\t<tr><td>OFQv68_w2   </td><td>DW    </td><td>32</td></tr>\n",
       "\t<tr><td>OFQv68_w3   </td><td>DW    </td><td>21</td></tr>\n",
       "\t<tr><td>OFQv68_w3_BS</td><td>DW    </td><td>17</td></tr>\n",
       "\t<tr><td>OFQv68_w4   </td><td>DW    </td><td>32</td></tr>\n",
       "\t<tr><td>OFQv68_w4_BS</td><td>DW    </td><td>17</td></tr>\n",
       "\t<tr><td>OFQv69_w4   </td><td>DW    </td><td>27</td></tr>\n",
       "\t<tr><td>OFQv69_w5   </td><td>DW    </td><td>22</td></tr>\n",
       "\t<tr><td>OFQv68_w2   </td><td>Non DW</td><td>32</td></tr>\n",
       "\t<tr><td>OFQv68_w3   </td><td>Non DW</td><td>21</td></tr>\n",
       "\t<tr><td>OFQv68_w3_BS</td><td>Non DW</td><td>17</td></tr>\n",
       "\t<tr><td>OFQv68_w4   </td><td>Non DW</td><td>32</td></tr>\n",
       "\t<tr><td>OFQv68_w4_BS</td><td>Non DW</td><td>17</td></tr>\n",
       "\t<tr><td>OFQv69_w4   </td><td>Non DW</td><td>27</td></tr>\n",
       "\t<tr><td>OFQv69_w5   </td><td>Non DW</td><td>22</td></tr>\n",
       "</tbody>\n",
       "</table>\n"
      ],
      "text/latex": [
       "A data.table: 14 × 3\n",
       "\\begin{tabular}{lll}\n",
       " category & Deconvolution & N\\\\\n",
       " <chr> & <chr> & <int>\\\\\n",
       "\\hline\n",
       "\t OFQv68\\_w2    & DW     & 32\\\\\n",
       "\t OFQv68\\_w3    & DW     & 21\\\\\n",
       "\t OFQv68\\_w3\\_BS & DW     & 17\\\\\n",
       "\t OFQv68\\_w4    & DW     & 32\\\\\n",
       "\t OFQv68\\_w4\\_BS & DW     & 17\\\\\n",
       "\t OFQv69\\_w4    & DW     & 27\\\\\n",
       "\t OFQv69\\_w5    & DW     & 22\\\\\n",
       "\t OFQv68\\_w2    & Non DW & 32\\\\\n",
       "\t OFQv68\\_w3    & Non DW & 21\\\\\n",
       "\t OFQv68\\_w3\\_BS & Non DW & 17\\\\\n",
       "\t OFQv68\\_w4    & Non DW & 32\\\\\n",
       "\t OFQv68\\_w4\\_BS & Non DW & 17\\\\\n",
       "\t OFQv69\\_w4    & Non DW & 27\\\\\n",
       "\t OFQv69\\_w5    & Non DW & 22\\\\\n",
       "\\end{tabular}\n"
      ],
      "text/markdown": [
       "\n",
       "A data.table: 14 × 3\n",
       "\n",
       "| category &lt;chr&gt; | Deconvolution &lt;chr&gt; | N &lt;int&gt; |\n",
       "|---|---|---|\n",
       "| OFQv68_w2    | DW     | 32 |\n",
       "| OFQv68_w3    | DW     | 21 |\n",
       "| OFQv68_w3_BS | DW     | 17 |\n",
       "| OFQv68_w4    | DW     | 32 |\n",
       "| OFQv68_w4_BS | DW     | 17 |\n",
       "| OFQv69_w4    | DW     | 27 |\n",
       "| OFQv69_w5    | DW     | 22 |\n",
       "| OFQv68_w2    | Non DW | 32 |\n",
       "| OFQv68_w3    | Non DW | 21 |\n",
       "| OFQv68_w3_BS | Non DW | 17 |\n",
       "| OFQv68_w4    | Non DW | 32 |\n",
       "| OFQv68_w4_BS | Non DW | 17 |\n",
       "| OFQv69_w4    | Non DW | 27 |\n",
       "| OFQv69_w5    | Non DW | 22 |\n",
       "\n"
      ],
      "text/plain": [
       "   category     Deconvolution N \n",
       "1  OFQv68_w2    DW            32\n",
       "2  OFQv68_w3    DW            21\n",
       "3  OFQv68_w3_BS DW            17\n",
       "4  OFQv68_w4    DW            32\n",
       "5  OFQv68_w4_BS DW            17\n",
       "6  OFQv69_w4    DW            27\n",
       "7  OFQv69_w5    DW            22\n",
       "8  OFQv68_w2    Non DW        32\n",
       "9  OFQv68_w3    Non DW        21\n",
       "10 OFQv68_w3_BS Non DW        17\n",
       "11 OFQv68_w4    Non DW        32\n",
       "12 OFQv68_w4_BS Non DW        17\n",
       "13 OFQv69_w4    Non DW        27\n",
       "14 OFQv69_w5    Non DW        22"
      ]
     },
     "metadata": {}
    }
   ],
   "metadata": {}
  },
  {
   "cell_type": "code",
   "execution_count": 87,
   "source": [
    "set.seed(465456)\n",
    "pdata[Deconvolution == \"Non DW\", Deconvolution := \"Raw\"]\n",
    "pdata[, Deconvolution := factor(Deconvolution, levels=c(\"Raw\", \"DW\"))]\n",
    "pdata[, category := factor(category, levels=c(\"OFQv68_w2\", \"OFQv68_w3\", \"OFQv68_w4\", \"OFQv68_w3_BS\", \"OFQv68_w4_BS\", \"OFQv69_w4\", \"OFQv69_w5\"))]\n",
    "pdata[, nudge_x := runif(.N, -.125, .125)]"
   ],
   "outputs": [],
   "metadata": {}
  },
  {
   "cell_type": "code",
   "execution_count": 88,
   "source": [
    "options(repr.plot.width=16, repr.plot.height=6)\n",
    "palette = brewer.pal(4, \"Paired\")\n",
    "stat_data = pdata[, .(mean=mean(detected), sd=sd(detected)), by=c(\"category\", \"Deconvolution\")]\n",
    "p = ggplot(stat_data, aes(x=factor(category), y=mean, fill=Deconvolution)) +\n",
    "    geom_col(position=\"dodge\", color=\"#323232\") +\n",
    "    theme_bw() + scale_fill_manual(\"\", values=palette[c(1,3)]) +\n",
    "    scale_x_discrete(labels=1:7) + labs(x=\"Replicate\", y=\"Average detection\\nefficiency (%)\") +\n",
    "    geom_point(data=pdata[Deconvolution == \"DW\"],\n",
    "               aes(x=as.numeric(factor(category))+.225+nudge_x, y=detected),\n",
    "               color=palette[4], size=.5) +\n",
    "    geom_point(data=pdata[Deconvolution == \"Raw\"],\n",
    "               aes(x=as.numeric(factor(category))-.225+nudge_x, y=detected),\n",
    "               color=palette[2], size=.5) +\n",
    "    geom_errorbar(data=stat_data[Deconvolution == \"DW\"],\n",
    "                  aes(x=as.numeric(factor(category))+.225, ymax=mean+sd, ymin=mean-sd),\n",
    "                  color=\"#323232\", width=0, size=.5) +\n",
    "    geom_errorbar(data=stat_data[Deconvolution == \"Raw\"],\n",
    "                  aes(x=as.numeric(factor(category))-.225, ymax=mean+sd, ymin=mean-sd),\n",
    "                  color=\"#323232\", width=0, size=.5)\n",
    "print(p)"
   ],
   "outputs": [
    {
     "output_type": "display_data",
     "data": {
      "image/png": "[encoded data removed]",
      "text/plain": [
       "plot without title"
      ]
     },
     "metadata": {
      "image/png": {
       "width": 960,
       "height": 360
      }
     }
    }
   ],
   "metadata": {}
  },
  {
   "cell_type": "code",
   "execution_count": 89,
   "source": [
    "save_and_plot(p, \"panels/fig_5c\", width=8, height=2.5, formats=c(\"png\", \"jpg\", \"pdf\"))\n",
    "saveRDS(p, \"panels/fig_5c.rds\")"
   ],
   "outputs": [],
   "metadata": {}
  },
  {
   "cell_type": "code",
   "execution_count": 90,
   "source": [
    "stat_data = pdata[, .(mean=mean(detected), sd=sd(detected)), by=c(\"match_barcodes\", \"Deconvolution\")]\n",
    "head(stat_data)"
   ],
   "outputs": [
    {
     "output_type": "display_data",
     "data": {
      "text/html": [
       "<table class=\"dataframe\">\n",
       "<caption>A data.table: 6 × 4</caption>\n",
       "<thead>\n",
       "\t<tr><th scope=col>match_barcodes</th><th scope=col>Deconvolution</th><th scope=col>mean</th><th scope=col>sd</th></tr>\n",
       "\t<tr><th scope=col>&lt;int&gt;</th><th scope=col>&lt;fct&gt;</th><th scope=col>&lt;dbl&gt;</th><th scope=col>&lt;dbl&gt;</th></tr>\n",
       "</thead>\n",
       "<tbody>\n",
       "\t<tr><td>44</td><td>DW</td><td>0.9565217</td><td> 0</td></tr>\n",
       "\t<tr><td>42</td><td>DW</td><td>0.9130435</td><td> 0</td></tr>\n",
       "\t<tr><td>46</td><td>DW</td><td>1.0000000</td><td> 0</td></tr>\n",
       "\t<tr><td>45</td><td>DW</td><td>0.9782609</td><td> 0</td></tr>\n",
       "\t<tr><td>43</td><td>DW</td><td>0.9347826</td><td> 0</td></tr>\n",
       "\t<tr><td>38</td><td>DW</td><td>0.8260870</td><td>NA</td></tr>\n",
       "</tbody>\n",
       "</table>\n"
      ],
      "text/latex": [
       "A data.table: 6 × 4\n",
       "\\begin{tabular}{llll}\n",
       " match\\_barcodes & Deconvolution & mean & sd\\\\\n",
       " <int> & <fct> & <dbl> & <dbl>\\\\\n",
       "\\hline\n",
       "\t 44 & DW & 0.9565217 &  0\\\\\n",
       "\t 42 & DW & 0.9130435 &  0\\\\\n",
       "\t 46 & DW & 1.0000000 &  0\\\\\n",
       "\t 45 & DW & 0.9782609 &  0\\\\\n",
       "\t 43 & DW & 0.9347826 &  0\\\\\n",
       "\t 38 & DW & 0.8260870 & NA\\\\\n",
       "\\end{tabular}\n"
      ],
      "text/markdown": [
       "\n",
       "A data.table: 6 × 4\n",
       "\n",
       "| match_barcodes &lt;int&gt; | Deconvolution &lt;fct&gt; | mean &lt;dbl&gt; | sd &lt;dbl&gt; |\n",
       "|---|---|---|---|\n",
       "| 44 | DW | 0.9565217 |  0 |\n",
       "| 42 | DW | 0.9130435 |  0 |\n",
       "| 46 | DW | 1.0000000 |  0 |\n",
       "| 45 | DW | 0.9782609 |  0 |\n",
       "| 43 | DW | 0.9347826 |  0 |\n",
       "| 38 | DW | 0.8260870 | NA |\n",
       "\n"
      ],
      "text/plain": [
       "  match_barcodes Deconvolution mean      sd\n",
       "1 44             DW            0.9565217  0\n",
       "2 42             DW            0.9130435  0\n",
       "3 46             DW            1.0000000  0\n",
       "4 45             DW            0.9782609  0\n",
       "5 43             DW            0.9347826  0\n",
       "6 38             DW            0.8260870 NA"
      ]
     },
     "metadata": {}
    }
   ],
   "metadata": {}
  },
  {
   "cell_type": "code",
   "execution_count": null,
   "source": [],
   "outputs": [],
   "metadata": {}
  },
  {
   "cell_type": "code",
   "execution_count": 91,
   "source": [
    "ggplot(stat_data, aes(x=match_barcodes, y=mean, fill=Deconvolution)) + geom_col()"
   ],
   "outputs": [
    {
     "output_type": "display_data",
     "data": {
      "image/png": "[encoded data removed]",
      "text/plain": [
       "plot without title"
      ]
     },
     "metadata": {
      "image/png": {
       "width": 960,
       "height": 360
      }
     }
    }
   ],
   "metadata": {}
  },
  {
   "cell_type": "code",
   "execution_count": 92,
   "source": [
    "pdata2 = fread(\"../data/Tier_2_detection_efficiency_per_replicate_chrX_46plex_eLIT.csv\")[, V1 := NULL]"
   ],
   "outputs": [],
   "metadata": {}
  },
  {
   "cell_type": "code",
   "execution_count": 93,
   "source": [
    "#pdata2[match_barcodes==\"45\"]\n",
    "sort(pdata2[, unique(match_barcodes)])"
   ],
   "outputs": [
    {
     "output_type": "display_data",
     "data": {
      "text/html": [
       "<style>\n",
       ".list-inline {list-style: none; margin:0; padding: 0}\n",
       ".list-inline>li {display: inline-block}\n",
       ".list-inline>li:not(:last-child)::after {content: \"\\00b7\"; padding: 0 .5ex}\n",
       "</style>\n",
       "<ol class=list-inline><li>22</li><li>24</li><li>26</li><li>27</li><li>28</li><li>29</li><li>30</li><li>31</li><li>32</li><li>33</li><li>34</li><li>35</li><li>36</li><li>37</li><li>38</li><li>39</li><li>40</li><li>41</li><li>42</li><li>43</li><li>44</li><li>45</li><li>46</li></ol>\n"
      ],
      "text/latex": [
       "\\begin{enumerate*}\n",
       "\\item 22\n",
       "\\item 24\n",
       "\\item 26\n",
       "\\item 27\n",
       "\\item 28\n",
       "\\item 29\n",
       "\\item 30\n",
       "\\item 31\n",
       "\\item 32\n",
       "\\item 33\n",
       "\\item 34\n",
       "\\item 35\n",
       "\\item 36\n",
       "\\item 37\n",
       "\\item 38\n",
       "\\item 39\n",
       "\\item 40\n",
       "\\item 41\n",
       "\\item 42\n",
       "\\item 43\n",
       "\\item 44\n",
       "\\item 45\n",
       "\\item 46\n",
       "\\end{enumerate*}\n"
      ],
      "text/markdown": [
       "1. 22\n",
       "2. 24\n",
       "3. 26\n",
       "4. 27\n",
       "5. 28\n",
       "6. 29\n",
       "7. 30\n",
       "8. 31\n",
       "9. 32\n",
       "10. 33\n",
       "11. 34\n",
       "12. 35\n",
       "13. 36\n",
       "14. 37\n",
       "15. 38\n",
       "16. 39\n",
       "17. 40\n",
       "18. 41\n",
       "19. 42\n",
       "20. 43\n",
       "21. 44\n",
       "22. 45\n",
       "23. 46\n",
       "\n",
       "\n"
      ],
      "text/plain": [
       " [1] 22 24 26 27 28 29 30 31 32 33 34 35 36 37 38 39 40 41 42 43 44 45 46"
      ]
     },
     "metadata": {}
    }
   ],
   "metadata": {}
  },
  {
   "cell_type": "code",
   "execution_count": 94,
   "source": [
    "apply(dcast(pdata2[, .(N=1), by=c(\"Deconvolution\", \"match_barcodes\")], Deconvolution~match_barcodes, value.var=\"N\")[, 2:23], MARGIN=2, FUN=sum, na.rm=T)"
   ],
   "outputs": [
    {
     "output_type": "display_data",
     "data": {
      "text/html": [
       "<style>\n",
       ".dl-inline {width: auto; margin:0; padding: 0}\n",
       ".dl-inline>dt, .dl-inline>dd {float: none; width: auto; display: inline-block}\n",
       ".dl-inline>dt::after {content: \":\\0020\"; padding-right: .5ex}\n",
       ".dl-inline>dt:not(:first-of-type) {padding-left: .5ex}\n",
       "</style><dl class=dl-inline><dt>22</dt><dd>1</dd><dt>24</dt><dd>1</dd><dt>26</dt><dd>1</dd><dt>27</dt><dd>1</dd><dt>28</dt><dd>1</dd><dt>29</dt><dd>1</dd><dt>30</dt><dd>1</dd><dt>31</dt><dd>1</dd><dt>32</dt><dd>1</dd><dt>33</dt><dd>1</dd><dt>34</dt><dd>1</dd><dt>35</dt><dd>1</dd><dt>36</dt><dd>1</dd><dt>37</dt><dd>2</dd><dt>38</dt><dd>2</dd><dt>39</dt><dd>1</dd><dt>40</dt><dd>2</dd><dt>41</dt><dd>2</dd><dt>42</dt><dd>1</dd><dt>43</dt><dd>1</dd><dt>44</dt><dd>1</dd><dt>45</dt><dd>1</dd></dl>\n"
      ],
      "text/latex": [
       "\\begin{description*}\n",
       "\\item[22] 1\n",
       "\\item[24] 1\n",
       "\\item[26] 1\n",
       "\\item[27] 1\n",
       "\\item[28] 1\n",
       "\\item[29] 1\n",
       "\\item[30] 1\n",
       "\\item[31] 1\n",
       "\\item[32] 1\n",
       "\\item[33] 1\n",
       "\\item[34] 1\n",
       "\\item[35] 1\n",
       "\\item[36] 1\n",
       "\\item[37] 2\n",
       "\\item[38] 2\n",
       "\\item[39] 1\n",
       "\\item[40] 2\n",
       "\\item[41] 2\n",
       "\\item[42] 1\n",
       "\\item[43] 1\n",
       "\\item[44] 1\n",
       "\\item[45] 1\n",
       "\\end{description*}\n"
      ],
      "text/markdown": [
       "22\n",
       ":   124\n",
       ":   126\n",
       ":   127\n",
       ":   128\n",
       ":   129\n",
       ":   130\n",
       ":   131\n",
       ":   132\n",
       ":   133\n",
       ":   134\n",
       ":   135\n",
       ":   136\n",
       ":   137\n",
       ":   238\n",
       ":   239\n",
       ":   140\n",
       ":   241\n",
       ":   242\n",
       ":   143\n",
       ":   144\n",
       ":   145\n",
       ":   1\n",
       "\n"
      ],
      "text/plain": [
       "22 24 26 27 28 29 30 31 32 33 34 35 36 37 38 39 40 41 42 43 44 45 \n",
       " 1  1  1  1  1  1  1  1  1  1  1  1  1  2  2  1  2  2  1  1  1  1 "
      ]
     },
     "metadata": {}
    }
   ],
   "metadata": {}
  },
  {
   "cell_type": "code",
   "execution_count": null,
   "source": [],
   "outputs": [],
   "metadata": {}
  }
 ],
 "metadata": {
  "kernelspec": {
   "display_name": "R 3.6",
   "language": "R",
   "name": "ir36"
  },
  "language_info": {
   "codemirror_mode": "r",
   "file_extension": ".r",
   "mimetype": "text/x-r-source",
   "name": "R",
   "pygments_lexer": "r",
   "version": "3.6.3"
  }
 },
 "nbformat": 4,
 "nbformat_minor": 4
}